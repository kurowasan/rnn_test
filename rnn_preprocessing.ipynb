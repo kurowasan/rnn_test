{
 "cells": [
  {
   "cell_type": "code",
   "execution_count": 1,
   "metadata": {
    "collapsed": false
   },
   "outputs": [
    {
     "name": "stderr",
     "output_type": "stream",
     "text": [
      "Using Theano backend.\n"
     ]
    }
   ],
   "source": [
    "%matplotlib inline\n",
    "import random\n",
    "import numpy as np\n",
    "from keras.models import Sequential\n",
    "from keras.layers.recurrent import LSTM\n",
    "from keras.layers.core import Dense, Activation, Dropout\n",
    "from keras.utils import np_utils\n",
    "from keras.callbacks import ModelCheckpoint"
   ]
  },
  {
   "cell_type": "code",
   "execution_count": 2,
   "metadata": {
    "collapsed": true
   },
   "outputs": [],
   "source": [
    "# open and read text file\n",
    "file = open('C://Users//kurowasan//Desktop//analysis//poe.txt', encoding=\"utf8\")\n",
    "data = file.read()\n",
    "file.close()"
   ]
  },
  {
   "cell_type": "code",
   "execution_count": 3,
   "metadata": {
    "collapsed": false
   },
   "outputs": [
    {
     "data": {
      "text/plain": [
       "'\\ufeffProject Gutenberg’s The Works of Edgar Allan Poe, by Edgar Allan Poe\\n\\nThis eBook is for the use of anyone anywhere at no cost and with\\nalmost no restrictions whatsoever.  You may copy it, give it away or\\nre-use it under the terms of the Project Gutenberg License included\\nwith this eBook or online a'"
      ]
     },
     "execution_count": 3,
     "metadata": {},
     "output_type": "execute_result"
    }
   ],
   "source": [
    "data[0:300]"
   ]
  },
  {
   "cell_type": "code",
   "execution_count": 4,
   "metadata": {
    "collapsed": true
   },
   "outputs": [],
   "source": [
    "# text preprocessing\n",
    "data = data.lower()"
   ]
  },
  {
   "cell_type": "code",
   "execution_count": 5,
   "metadata": {
    "collapsed": false
   },
   "outputs": [
    {
     "name": "stdout",
     "output_type": "stream",
     "text": [
      "Total unique letters: 74\n"
     ]
    },
    {
     "data": {
      "text/plain": [
       "Counter({' ': 87180, 'e': 54768, 't': 40593, 'a': 33064, 'o': 31996, 'i': 31206, 'n': 29569, 's': 25824, 'r': 25154, 'h': 24376, 'd': 17041, 'l': 16380, 'u': 12774, 'c': 12135, 'f': 10901, 'm': 10688, '\\n': 9226, 'p': 8798, 'w': 8600, ',': 7964, 'g': 7804, 'y': 7761, 'b': 6968, 'v': 4678, '.': 4080, '-': 2128, 'k': 2058, 'x': 831, '“': 726, ';': 629, '’': 612, 'j': 517, 'q': 503, '_': 492, '”': 486, 'z': 242, ')': 216, '!': 215, '(': 212, '?': 207, '‘': 202, '1': 181, '*': 164, '0': 127, '8': 103, ':': 98, '2': 90, '4': 76, '3': 60, '5': 56, '6': 46, '9': 35, 'ê': 34, 'æ': 34, 'é': 33, '7': 30, '/': 27, '‡': 23, 'è': 18, '†': 12, '[': 10, 'ô': 10, ']': 10, '$': 7, '~': 6, '¶': 3, 'â': 2, '&': 2, '@': 2, '\\ufeff': 1, '#': 1, 'ö': 1, '%': 1, 'õ': 1})"
      ]
     },
     "execution_count": 5,
     "metadata": {},
     "output_type": "execute_result"
    }
   ],
   "source": [
    "# show letter distribution\n",
    "import collections\n",
    "letters = collections.Counter(data)\n",
    "print(\"Total unique letters: {}\".format(len(letters)))\n",
    "letters"
   ]
  },
  {
   "cell_type": "code",
   "execution_count": 6,
   "metadata": {
    "collapsed": true
   },
   "outputs": [],
   "source": [
    "l = list(letters.items())\n",
    "l.sort(key=lambda x: x[1], reverse=True)\n",
    "freq = [list(x) for x in zip(*l)]\n",
    "freq[1] = [x/len(data) for x in freq[1]]"
   ]
  },
  {
   "cell_type": "code",
   "execution_count": 7,
   "metadata": {
    "collapsed": false
   },
   "outputs": [
    {
     "name": "stdout",
     "output_type": "stream",
     "text": [
      "[' ', 'e', 't', 'a', 'o', 'i', 'n', 's', 'r', 'h', 'd', 'l', 'u', 'c', 'f', 'm', '\\n', 'p', 'w', ',', 'g', 'y', 'b', 'v', '.', '-', 'k', 'x', '“', ';', '’', 'j', 'q', '_', '”', 'z', ')', '!', '(', '?', '‘', '1', '*', '0', '8', ':', '2', '4', '3', '5', '6', '9', 'ê', 'æ', 'é', '7', '/', '‡', 'è', '†', '[', 'ô', ']', '$', '~', '¶', 'â', '&', '@', '\\ufeff', '#', 'ö', '%', 'õ']\n"
     ]
    },
    {
     "data": {
      "image/png": "[encoded data removed]",
      "text/plain": [
       "<matplotlib.figure.Figure at 0x89ed630>"
      ]
     },
     "metadata": {},
     "output_type": "display_data"
    }
   ],
   "source": [
    "import matplotlib.pyplot as plt\n",
    "plt.bar(left=np.linspace(1,len(freq[1]),len(freq[1])), height=freq[1])\n",
    "print(freq[0])"
   ]
  },
  {
   "cell_type": "code",
   "execution_count": 8,
   "metadata": {
    "collapsed": true
   },
   "outputs": [],
   "source": [
    "# preprocessing 2 - remove the character with a frequency lesser than 0.01%\n",
    "threshold = int(len(data)/10000)\n",
    "to_remove = [x[0] for x in l if x[1] < threshold]\n",
    "\n",
    "for c in to_remove:\n",
    "    data = data.replace(c, '')  "
   ]
  },
  {
   "cell_type": "code",
   "execution_count": 9,
   "metadata": {
    "collapsed": false
   },
   "outputs": [
    {
     "data": {
      "text/plain": [
       "'project gutenberg’s the works of edgar allan poe, by edgar allan poe\\n\\nthis ebook is for the use of anyone anywhere at no cost and with\\nalmost no restrictions whatsoever.  you may copy it, give it away or\\nre-use it under the terms of the project gutenberg license included\\nwith this ebook or online at'"
      ]
     },
     "execution_count": 9,
     "metadata": {},
     "output_type": "execute_result"
    }
   ],
   "source": [
    "data[0:300]"
   ]
  },
  {
   "cell_type": "code",
   "execution_count": 10,
   "metadata": {
    "collapsed": true
   },
   "outputs": [],
   "source": [
    "# short version // TEMP\n",
    "data = data[3000:4000]"
   ]
  },
  {
   "cell_type": "code",
   "execution_count": 12,
   "metadata": {
    "collapsed": true
   },
   "outputs": [],
   "source": [
    "text_file = open('C://Users//kurowasan//Desktop//analysis//poe_preprocessed.txt', \"w\", encoding=\"utf8\")\n",
    "text_file.write(data)\n",
    "text_file.close()"
   ]
  },
  {
   "cell_type": "code",
   "execution_count": null,
   "metadata": {
    "collapsed": true
   },
   "outputs": [],
   "source": []
  }
 ],
 "metadata": {
  "kernelspec": {
   "display_name": "Python 3",
   "language": "python",
   "name": "python3"
  },
  "language_info": {
   "codemirror_mode": {
    "name": "ipython",
    "version": 3
   },
   "file_extension": ".py",
   "mimetype": "text/x-python",
   "name": "python",
   "nbconvert_exporter": "python",
   "pygments_lexer": "ipython3",
   "version": "3.4.3"
  }
 },
 "nbformat": 4,
 "nbformat_minor": 0
}
